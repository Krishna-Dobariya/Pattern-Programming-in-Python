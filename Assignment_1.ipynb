{
  "nbformat": 4,
  "nbformat_minor": 0,
  "metadata": {
    "colab": {
      "name": "Assignment_1.ipynb",
      "provenance": [],
      "collapsed_sections": []
    },
    "kernelspec": {
      "name": "python3",
      "display_name": "Python 3"
    },
    "language_info": {
      "name": "python"
    }
  },
  "cells": [
    {
      "cell_type": "markdown",
      "metadata": {
        "id": "YXQz0ibwtPwL"
      },
      "source": [
        "### Pattern 1"
      ]
    },
    {
      "cell_type": "code",
      "metadata": {
        "colab": {
          "base_uri": "https://localhost:8080/"
        },
        "id": "6-iZ9G01EgiD",
        "outputId": "625375ad-b8d0-4284-b1f1-7a6c5d302ab3"
      },
      "source": [
        "n = 5\n",
        "\n",
        "for i in range(n, 0, -1):\n",
        "  for j in range(0, i):\n",
        "    print(n, end=' ')\n",
        "\n",
        "  print()"
      ],
      "execution_count": 13,
      "outputs": [
        {
          "output_type": "stream",
          "text": [
            "5 5 5 5 5 \n",
            "5 5 5 5 \n",
            "5 5 5 \n",
            "5 5 \n",
            "5 \n"
          ],
          "name": "stdout"
        }
      ]
    },
    {
      "cell_type": "markdown",
      "metadata": {
        "id": "zSwKbRaGtarR"
      },
      "source": [
        "### Pattern 2"
      ]
    },
    {
      "cell_type": "code",
      "metadata": {
        "colab": {
          "base_uri": "https://localhost:8080/"
        },
        "id": "iV-T6LUlFmbj",
        "outputId": "aa80821c-1072-4ff8-99b8-cce856e11e46"
      },
      "source": [
        "n = 5\n",
        "\n",
        "for i in range(n, 0, -1):\n",
        "  for j in range(0, i + 1):\n",
        "    print(j, end='  ')\n",
        "\n",
        "  print()"
      ],
      "execution_count": 14,
      "outputs": [
        {
          "output_type": "stream",
          "text": [
            "0  1  2  3  4  5  \n",
            "0  1  2  3  4  \n",
            "0  1  2  3  \n",
            "0  1  2  \n",
            "0  1  \n"
          ],
          "name": "stdout"
        }
      ]
    },
    {
      "cell_type": "markdown",
      "metadata": {
        "id": "w4C3dXWRtfjW"
      },
      "source": [
        "### Pattern 3"
      ]
    },
    {
      "cell_type": "code",
      "metadata": {
        "colab": {
          "base_uri": "https://localhost:8080/"
        },
        "id": "R1B7N4oAH-Zy",
        "outputId": "164532c2-007b-46c5-94e4-fdc8989f64b2"
      },
      "source": [
        "n = 1\n",
        "\n",
        "for i in range(1,6):\n",
        "  for j in range(1,i+1):\n",
        "    print(n,end=' ')\n",
        "  n+=2\n",
        "  print()"
      ],
      "execution_count": 12,
      "outputs": [
        {
          "output_type": "stream",
          "text": [
            "1 \n",
            "3 3 \n",
            "5 5 5 \n",
            "7 7 7 7 \n",
            "9 9 9 9 9 \n"
          ],
          "name": "stdout"
        }
      ]
    },
    {
      "cell_type": "markdown",
      "metadata": {
        "id": "Te88hLEBti5f"
      },
      "source": [
        "### Pattern 4"
      ]
    },
    {
      "cell_type": "code",
      "metadata": {
        "colab": {
          "base_uri": "https://localhost:8080/"
        },
        "id": "XI9ujGAmI-Ac",
        "outputId": "7f963cb5-481c-40da-cdf4-c62671a13447"
      },
      "source": [
        "n = 5\n",
        "\n",
        "for i in range(n):\n",
        "  for j in range(i, -1, -1):\n",
        "    print(j+1, end=' ')\n",
        "\n",
        "  print('')"
      ],
      "execution_count": null,
      "outputs": [
        {
          "output_type": "stream",
          "text": [
            "1 \n",
            "2 1 \n",
            "3 2 1 \n",
            "4 3 2 1 \n",
            "5 4 3 2 1 \n"
          ],
          "name": "stdout"
        }
      ]
    },
    {
      "cell_type": "markdown",
      "metadata": {
        "id": "UloW5S8Ttnff"
      },
      "source": [
        "Pattern 5"
      ]
    },
    {
      "cell_type": "code",
      "metadata": {
        "colab": {
          "base_uri": "https://localhost:8080/"
        },
        "id": "pruRdgSqMYSF",
        "outputId": "efe0ae85-6901-4759-e8c4-ab8e549e5187"
      },
      "source": [
        "s1 = 1\n",
        "s2 = 2\n",
        "n = s2\n",
        "\n",
        "for row in range(2, 6):\n",
        "  for col in range(s1, s2):\n",
        "    n -= 1\n",
        "    print(n, end=' ')\n",
        "\n",
        "  print('')\n",
        "\n",
        "  s1 = s2\n",
        "  s2 += row\n",
        "  n = s2"
      ],
      "execution_count": 19,
      "outputs": [
        {
          "output_type": "stream",
          "text": [
            "1 \n",
            "3 2 \n",
            "6 5 4 \n",
            "10 9 8 7 \n"
          ],
          "name": "stdout"
        }
      ]
    },
    {
      "cell_type": "markdown",
      "metadata": {
        "id": "6yBzG_97t2pc"
      },
      "source": [
        "### Pattern 6"
      ]
    },
    {
      "cell_type": "code",
      "metadata": {
        "colab": {
          "base_uri": "https://localhost:8080/"
        },
        "id": "RbSEjM3QdlHW",
        "outputId": "da7534c6-6f07-4f63-a57e-a4e90ea17f0a"
      },
      "source": [
        "n = 7\n",
        "p = 1\n",
        "\n",
        "for i in range(1, n+1):\n",
        "    \n",
        "    for j in range(0, i):\n",
        "        if j==0 or i==0:\n",
        "            p = 1\n",
        "        else:\n",
        "            p = p * (i - j)//j\n",
        "        print(p, end = \" \")\n",
        "    print()"
      ],
      "execution_count": 27,
      "outputs": [
        {
          "output_type": "stream",
          "text": [
            "1 \n",
            "1 1 \n",
            "1 2 1 \n",
            "1 3 3 1 \n",
            "1 4 6 4 1 \n",
            "1 5 10 10 5 1 \n",
            "1 6 15 20 15 6 1 \n"
          ],
          "name": "stdout"
        }
      ]
    },
    {
      "cell_type": "markdown",
      "metadata": {
        "id": "e5WtWSx5uLc1"
      },
      "source": [
        "### Pattern 7"
      ]
    },
    {
      "cell_type": "code",
      "metadata": {
        "colab": {
          "base_uri": "https://localhost:8080/"
        },
        "id": "HTN7o1HqeL_t",
        "outputId": "86b80bca-08c8-46d4-86d6-19a8509ef2fc"
      },
      "source": [
        "n = 5\n",
        "for i in range(1, n + 1):  \n",
        "    for j in range(1, n + 1):  \n",
        "        if j <= i:  \n",
        "            print(i, end=' ')  \n",
        "        else:  \n",
        "            print(j, end=' ')  \n",
        "    print()  "
      ],
      "execution_count": 23,
      "outputs": [
        {
          "output_type": "stream",
          "text": [
            "1 2 3 4 5 \n",
            "2 2 3 4 5 \n",
            "3 3 3 4 5 \n",
            "4 4 4 4 5 \n",
            "5 5 5 5 5 \n"
          ],
          "name": "stdout"
        }
      ]
    },
    {
      "cell_type": "markdown",
      "metadata": {
        "id": "fLHOTn1WuQ4c"
      },
      "source": [
        "### Pattern 8"
      ]
    },
    {
      "cell_type": "code",
      "metadata": {
        "colab": {
          "base_uri": "https://localhost:8080/"
        },
        "id": "6dF7atLYf1-V",
        "outputId": "fd9b9afb-c970-4caf-dfce-abc7dec66b84"
      },
      "source": [
        "n = 9\n",
        "for i in range(1, n):  \n",
        "    for j in range(1, i + 1):  \n",
        "        print(i * j, end='  ')  \n",
        "    print()  "
      ],
      "execution_count": null,
      "outputs": [
        {
          "output_type": "stream",
          "text": [
            "1  \n",
            "2  4  \n",
            "3  6  9  \n",
            "4  8  12  16  \n",
            "5  10  15  20  25  \n",
            "6  12  18  24  30  36  \n",
            "7  14  21  28  35  42  49  \n",
            "8  16  24  32  40  48  56  64  \n"
          ],
          "name": "stdout"
        }
      ]
    },
    {
      "cell_type": "markdown",
      "metadata": {
        "id": "Yk7GRc6cuWrp"
      },
      "source": [
        "### Pattern 9"
      ]
    },
    {
      "cell_type": "code",
      "metadata": {
        "colab": {
          "base_uri": "https://localhost:8080/"
        },
        "id": "WibflLZUkOU_",
        "outputId": "3f8784ea-9fb4-4993-d0a0-cee34ae7f463"
      },
      "source": [
        "n = 5  \n",
        "k = 2 * n - 2  \n",
        "for i in range(n, -1, -1):  \n",
        "    for j in range(k, 0, -1):  \n",
        "        print(end=\" \")  \n",
        "    k = k + 1  \n",
        "    for j in range(0, i + 1):  \n",
        "        print(\"*\", end=\" \")  \n",
        "    print(\"\")  "
      ],
      "execution_count": null,
      "outputs": [
        {
          "output_type": "stream",
          "text": [
            "        * * * * * * \n",
            "         * * * * * \n",
            "          * * * * \n",
            "           * * * \n",
            "            * * \n",
            "             * \n"
          ],
          "name": "stdout"
        }
      ]
    },
    {
      "cell_type": "markdown",
      "metadata": {
        "id": "LwD3ySIaubD9"
      },
      "source": [
        "### Pattern 10"
      ]
    },
    {
      "cell_type": "code",
      "metadata": {
        "colab": {
          "base_uri": "https://localhost:8080/"
        },
        "id": "es53TIgplC66",
        "outputId": "22bfd430-814a-45db-bcbf-e2a0f1e14148"
      },
      "source": [
        "n = 5\n",
        "m = (2 * n) - 2  \n",
        "for i in range(0, n):  \n",
        "    for j in range(0, m):  \n",
        "        print(end=\" \")  \n",
        "    m = m - 1    \n",
        "    for j in range(0, i + 1):  \n",
        "        print(\"* \", end=' ')  \n",
        "    print(\" \")  "
      ],
      "execution_count": null,
      "outputs": [
        {
          "output_type": "stream",
          "text": [
            "        *   \n",
            "       *  *   \n",
            "      *  *  *   \n",
            "     *  *  *  *   \n",
            "    *  *  *  *  *   \n"
          ],
          "name": "stdout"
        }
      ]
    },
    {
      "cell_type": "markdown",
      "metadata": {
        "id": "tA_v5zBmuf1s"
      },
      "source": [
        "### Pattern 11"
      ]
    },
    {
      "cell_type": "code",
      "metadata": {
        "colab": {
          "base_uri": "https://localhost:8080/"
        },
        "id": "zl88sMfbmG2Y",
        "outputId": "dca4cc9f-c0c5-41b8-af9d-77d6a5fda55c"
      },
      "source": [
        "n = 6\n",
        "for i in range(0, n):\n",
        "    for j in range(0, i + 1):\n",
        "        print(\"*\", end=' ')\n",
        "    print(\" \")\n",
        "\n",
        "print(\" \")\n",
        "\n",
        "for i in range(n + 1, 0, -1):\n",
        "    for j in range(0, i - 1):\n",
        "        print(\"*\", end=' ')\n",
        "    print(\" \")"
      ],
      "execution_count": 6,
      "outputs": [
        {
          "output_type": "stream",
          "text": [
            "*  \n",
            "* *  \n",
            "* * *  \n",
            "* * * *  \n",
            "* * * * *  \n",
            "* * * * * *  \n",
            " \n",
            "* * * * * *  \n",
            "* * * * *  \n",
            "* * * *  \n",
            "* * *  \n",
            "* *  \n",
            "*  \n",
            " \n"
          ],
          "name": "stdout"
        }
      ]
    },
    {
      "cell_type": "markdown",
      "metadata": {
        "id": "Qx-zdk4Quj-U"
      },
      "source": [
        "### Pattern 12"
      ]
    },
    {
      "cell_type": "code",
      "metadata": {
        "colab": {
          "base_uri": "https://localhost:8080/"
        },
        "id": "YWkNkVXTnwbB",
        "outputId": "8374fa3e-eadf-4a4d-e38c-c8ae4290481a"
      },
      "source": [
        "n = 5\n",
        "for i in range(0, n):\n",
        "    for j in range(0, i + 1):\n",
        "        print(\"*\", end=' ')\n",
        "    print(\"\\r\")\n",
        "\n",
        "for i in range(n, 0, -1):\n",
        "    for j in range(0, i - 1):\n",
        "        print(\"*\", end=' ')\n",
        "    print(\"\\r\")"
      ],
      "execution_count": 5,
      "outputs": [
        {
          "output_type": "stream",
          "text": [
            "* \r\n",
            "* * \r\n",
            "* * * \r\n",
            "* * * * \r\n",
            "* * * * * \r\n",
            "* * * * \r\n",
            "* * * \r\n",
            "* * \r\n",
            "* \r\n",
            "\r\n"
          ],
          "name": "stdout"
        }
      ]
    },
    {
      "cell_type": "markdown",
      "metadata": {
        "id": "qMEdUtm3up_W"
      },
      "source": [
        "### Pattern 13"
      ]
    },
    {
      "cell_type": "code",
      "metadata": {
        "colab": {
          "base_uri": "https://localhost:8080/"
        },
        "id": "wkSpvP-SvERY",
        "outputId": "f2a7fc1c-8e01-4864-fa73-ab46cff34109"
      },
      "source": [
        "n = 5\n",
        "k = 2 * (n - 1)\n",
        "for i in range(1,6):\n",
        "  for j in range(k,0,-1):\n",
        "    print(end = ' ')\n",
        "  k=k-2\n",
        "  for j in range(i+1, 1 , -1):\n",
        "    print('* ', end = '')\n",
        "  print()\n",
        "\n",
        "n = 4\n",
        "k = (n-2)\n",
        "for i in range(4,0,-1):\n",
        "  for j in range(0,k):\n",
        "    print(end = ' ')\n",
        "  k=k+2\n",
        "  for j in range(1,i+1):\n",
        "    print('* ', end = '')\n",
        "  print()"
      ],
      "execution_count": 2,
      "outputs": [
        {
          "output_type": "stream",
          "text": [
            "        * \n",
            "      * * \n",
            "    * * * \n",
            "  * * * * \n",
            "* * * * * \n",
            "  * * * * \n",
            "    * * * \n",
            "      * * \n",
            "        * \n"
          ],
          "name": "stdout"
        }
      ]
    },
    {
      "cell_type": "markdown",
      "metadata": {
        "id": "jzu9JsT1seuM"
      },
      "source": [
        "### Pattern 14"
      ]
    },
    {
      "cell_type": "code",
      "metadata": {
        "colab": {
          "base_uri": "https://localhost:8080/"
        },
        "id": "a2VJzj6wwVqT",
        "outputId": "d880dc94-d2c3-40c6-9a27-5f5f6d856f10"
      },
      "source": [
        "n = 5\n",
        "for i in range(n, 0, -1):\n",
        "    for j in range(n-i):\n",
        "        print(\" \", end=\"\")\n",
        "    for j in range(1, 2*i):\n",
        "        print(\"*\", end=\"\")\n",
        "    print()\n",
        "\n",
        "for i in range(2, n+1):\n",
        "    for j in range(n-i):\n",
        "        print(\" \", end=\"\")\n",
        "    for j in range(1, 2*i):\n",
        "        print(\"*\", end=\"\")\n",
        "    print()"
      ],
      "execution_count": 3,
      "outputs": [
        {
          "output_type": "stream",
          "text": [
            "*********\n",
            " *******\n",
            "  *****\n",
            "   ***\n",
            "    *\n",
            "   ***\n",
            "  *****\n",
            " *******\n",
            "*********\n"
          ],
          "name": "stdout"
        }
      ]
    },
    {
      "cell_type": "markdown",
      "metadata": {
        "id": "lXzAX2JAsvo3"
      },
      "source": [
        "### Pattern 15"
      ]
    },
    {
      "cell_type": "code",
      "metadata": {
        "colab": {
          "base_uri": "https://localhost:8080/"
        },
        "id": "IgKD0GRkxeoI",
        "outputId": "c577e80e-9b01-4d14-aefe-7f159f42cf60"
      },
      "source": [
        "n = 14\n",
        "print(\"*\" * n, end=\"\\n\")\n",
        "i = (n // 2) - 1\n",
        "j = 2\n",
        "while i != 0:\n",
        "    while j <= (n - 2):\n",
        "        print(\"*\" * i, end=\"\")\n",
        "        print(\"_\" * j, end=\"\")\n",
        "        print(\"*\" * i, end=\"\\n\")\n",
        "        i = i - 1\n",
        "        j = j + 2"
      ],
      "execution_count": 4,
      "outputs": [
        {
          "output_type": "stream",
          "text": [
            "**************\n",
            "******__******\n",
            "*****____*****\n",
            "****______****\n",
            "***________***\n",
            "**__________**\n",
            "*____________*\n"
          ],
          "name": "stdout"
        }
      ]
    }
  ]
}